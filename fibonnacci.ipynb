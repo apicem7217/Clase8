{
  "nbformat": 4,
  "nbformat_minor": 0,
  "metadata": {
    "colab": {
      "provenance": [],
      "authorship_tag": "ABX9TyNWfAmRExpp6tYavTltxCwS",
      "include_colab_link": true
    },
    "kernelspec": {
      "name": "python3",
      "display_name": "Python 3"
    },
    "language_info": {
      "name": "python"
    }
  },
  "cells": [
    {
      "cell_type": "markdown",
      "metadata": {
        "id": "view-in-github",
        "colab_type": "text"
      },
      "source": [
        "<a href=\"https://colab.research.google.com/github/apicem7217/Clase8/blob/Phyton/fibonnacci.ipynb\" target=\"_parent\"><img src=\"https://colab.research.google.com/assets/colab-badge.svg\" alt=\"Open In Colab\"/></a>"
      ]
    },
    {
      "cell_type": "code",
      "execution_count": null,
      "metadata": {
        "id": "vjLNRMfOe1dW"
      },
      "outputs": [],
      "source": []
    },
    {
      "cell_type": "markdown",
      "source": [
        "Numeros capicua"
      ],
      "metadata": {
        "id": "x9vuSJmymPps"
      }
    },
    {
      "cell_type": "code",
      "source": [
        "# Numeros CAPICUA\n",
        "numeros_unicos = set()\n",
        "for i in range(100):\n",
        "  for j in range(100):\n",
        "    numero = i * j\n",
        "    if numero >= 100:\n",
        "      conversion_de_entero_s_string = str(numero)\n",
        "      if conversion_de_entero_s_string == conversion_de_entero_s_string[::-1]:\n",
        "        numeros_unicos.add(conversion_de_entero_s_string)\n",
        "\n",
        "numeros_unicos_ordenados = sorted(list(numeros_unicos))\n",
        "\n",
        "print(\"Numeros únicos ordenados\")\n",
        "\n",
        "print(numeros_unicos_ordenados)\n",
        "print(f\"La cantidad de numeros capicua es igual a: {len(numeros_unicos)}\")"
      ],
      "metadata": {
        "colab": {
          "base_uri": "https://localhost:8080/"
        },
        "id": "mk7CcZCHgo1B",
        "outputId": "e0bf6630-f669-42de-8eca-5fa5a981b22d"
      },
      "execution_count": 20,
      "outputs": [
        {
          "output_type": "stream",
          "name": "stdout",
          "text": [
            "Numeros únicos ordenados\n",
            "['1001', '111', '121', '1221', '141', '1551', '161', '171', '1771', '1881', '2002', '2112', '212', '222', '232', '2332', '242', '2442', '252', '2552', '272', '2772', '282', '292', '2992', '3003', '323', '333', '343', '363', '3663', '3773', '4004', '414', '4224', '424', '434', '444', '4554', '464', '4664', '474', '4774', '484', '4884', '494', '5005', '5115', '5225', '525', '5335', '5445', '555', '575', '5775', '585', '595', '6006', '616', '6336', '636', '646', '656', '666', '676', '6776', '686', '696', '7007', '7227', '737', '747', '767', '777', '8008', '8118', '828', '8448', '848', '858', '868', '888', '9009', '949', '969', '979', '989', '999']\n",
            "La cantidad de numeros capicua es igual a: 88\n"
          ]
        }
      ]
    },
    {
      "cell_type": "markdown",
      "source": [
        "**Algoritmos Fibonacci**"
      ],
      "metadata": {
        "id": "Pg7sbHhYmKuo"
      }
    },
    {
      "cell_type": "code",
      "source": [
        "# Fibonacci menor a 4,000,000\n",
        "\n",
        "x = 0\n",
        "y = 1\n",
        "lista = []\n",
        "lista_f = [x, y]\n",
        "suma = 0\n",
        "\n",
        "for i in range(32):\n",
        "  z = x + y\n",
        "  x = y\n",
        "  y = z\n",
        "  lista_f.append(z)\n",
        "  if (z % 2 == 0):\n",
        "    suma = suma + z\n",
        "    lista.append(z)\n",
        "# límite\n",
        "  if (z >= 4000000):\n",
        "   break\n",
        "\n",
        "  print(f\"La lista de fibonacci es : {lista_f}\")"
      ],
      "metadata": {
        "id": "AIb9K770iWYW",
        "colab": {
          "base_uri": "https://localhost:8080/"
        },
        "outputId": "50809426-2068-40b7-f0fb-ca96ed65091e"
      },
      "execution_count": 28,
      "outputs": [
        {
          "output_type": "stream",
          "name": "stdout",
          "text": [
            "La lista de fibonacci es : [0, 1, 1]\n",
            "La lista de fibonacci es : [0, 1, 1, 2]\n",
            "La lista de fibonacci es : [0, 1, 1, 2, 3]\n",
            "La lista de fibonacci es : [0, 1, 1, 2, 3, 5]\n",
            "La lista de fibonacci es : [0, 1, 1, 2, 3, 5, 8]\n",
            "La lista de fibonacci es : [0, 1, 1, 2, 3, 5, 8, 13]\n",
            "La lista de fibonacci es : [0, 1, 1, 2, 3, 5, 8, 13, 21]\n",
            "La lista de fibonacci es : [0, 1, 1, 2, 3, 5, 8, 13, 21, 34]\n",
            "La lista de fibonacci es : [0, 1, 1, 2, 3, 5, 8, 13, 21, 34, 55]\n",
            "La lista de fibonacci es : [0, 1, 1, 2, 3, 5, 8, 13, 21, 34, 55, 89]\n",
            "La lista de fibonacci es : [0, 1, 1, 2, 3, 5, 8, 13, 21, 34, 55, 89, 144]\n",
            "La lista de fibonacci es : [0, 1, 1, 2, 3, 5, 8, 13, 21, 34, 55, 89, 144, 233]\n",
            "La lista de fibonacci es : [0, 1, 1, 2, 3, 5, 8, 13, 21, 34, 55, 89, 144, 233, 377]\n",
            "La lista de fibonacci es : [0, 1, 1, 2, 3, 5, 8, 13, 21, 34, 55, 89, 144, 233, 377, 610]\n",
            "La lista de fibonacci es : [0, 1, 1, 2, 3, 5, 8, 13, 21, 34, 55, 89, 144, 233, 377, 610, 987]\n",
            "La lista de fibonacci es : [0, 1, 1, 2, 3, 5, 8, 13, 21, 34, 55, 89, 144, 233, 377, 610, 987, 1597]\n",
            "La lista de fibonacci es : [0, 1, 1, 2, 3, 5, 8, 13, 21, 34, 55, 89, 144, 233, 377, 610, 987, 1597, 2584]\n",
            "La lista de fibonacci es : [0, 1, 1, 2, 3, 5, 8, 13, 21, 34, 55, 89, 144, 233, 377, 610, 987, 1597, 2584, 4181]\n",
            "La lista de fibonacci es : [0, 1, 1, 2, 3, 5, 8, 13, 21, 34, 55, 89, 144, 233, 377, 610, 987, 1597, 2584, 4181, 6765]\n",
            "La lista de fibonacci es : [0, 1, 1, 2, 3, 5, 8, 13, 21, 34, 55, 89, 144, 233, 377, 610, 987, 1597, 2584, 4181, 6765, 10946]\n",
            "La lista de fibonacci es : [0, 1, 1, 2, 3, 5, 8, 13, 21, 34, 55, 89, 144, 233, 377, 610, 987, 1597, 2584, 4181, 6765, 10946, 17711]\n",
            "La lista de fibonacci es : [0, 1, 1, 2, 3, 5, 8, 13, 21, 34, 55, 89, 144, 233, 377, 610, 987, 1597, 2584, 4181, 6765, 10946, 17711, 28657]\n",
            "La lista de fibonacci es : [0, 1, 1, 2, 3, 5, 8, 13, 21, 34, 55, 89, 144, 233, 377, 610, 987, 1597, 2584, 4181, 6765, 10946, 17711, 28657, 46368]\n",
            "La lista de fibonacci es : [0, 1, 1, 2, 3, 5, 8, 13, 21, 34, 55, 89, 144, 233, 377, 610, 987, 1597, 2584, 4181, 6765, 10946, 17711, 28657, 46368, 75025]\n",
            "La lista de fibonacci es : [0, 1, 1, 2, 3, 5, 8, 13, 21, 34, 55, 89, 144, 233, 377, 610, 987, 1597, 2584, 4181, 6765, 10946, 17711, 28657, 46368, 75025, 121393]\n",
            "La lista de fibonacci es : [0, 1, 1, 2, 3, 5, 8, 13, 21, 34, 55, 89, 144, 233, 377, 610, 987, 1597, 2584, 4181, 6765, 10946, 17711, 28657, 46368, 75025, 121393, 196418]\n",
            "La lista de fibonacci es : [0, 1, 1, 2, 3, 5, 8, 13, 21, 34, 55, 89, 144, 233, 377, 610, 987, 1597, 2584, 4181, 6765, 10946, 17711, 28657, 46368, 75025, 121393, 196418, 317811]\n",
            "La lista de fibonacci es : [0, 1, 1, 2, 3, 5, 8, 13, 21, 34, 55, 89, 144, 233, 377, 610, 987, 1597, 2584, 4181, 6765, 10946, 17711, 28657, 46368, 75025, 121393, 196418, 317811, 514229]\n",
            "La lista de fibonacci es : [0, 1, 1, 2, 3, 5, 8, 13, 21, 34, 55, 89, 144, 233, 377, 610, 987, 1597, 2584, 4181, 6765, 10946, 17711, 28657, 46368, 75025, 121393, 196418, 317811, 514229, 832040]\n",
            "La lista de fibonacci es : [0, 1, 1, 2, 3, 5, 8, 13, 21, 34, 55, 89, 144, 233, 377, 610, 987, 1597, 2584, 4181, 6765, 10946, 17711, 28657, 46368, 75025, 121393, 196418, 317811, 514229, 832040, 1346269]\n",
            "La lista de fibonacci es : [0, 1, 1, 2, 3, 5, 8, 13, 21, 34, 55, 89, 144, 233, 377, 610, 987, 1597, 2584, 4181, 6765, 10946, 17711, 28657, 46368, 75025, 121393, 196418, 317811, 514229, 832040, 1346269, 2178309]\n",
            "La lista de fibonacci es : [0, 1, 1, 2, 3, 5, 8, 13, 21, 34, 55, 89, 144, 233, 377, 610, 987, 1597, 2584, 4181, 6765, 10946, 17711, 28657, 46368, 75025, 121393, 196418, 317811, 514229, 832040, 1346269, 2178309, 3524578]\n"
          ]
        }
      ]
    },
    {
      "cell_type": "markdown",
      "source": [
        "Algoritmos"
      ],
      "metadata": {
        "id": "2yX4BdlJmDmc"
      }
    },
    {
      "cell_type": "markdown",
      "source": [
        "Algoritmos"
      ],
      "metadata": {
        "id": "lDDc0zlZpDWI"
      }
    },
    {
      "cell_type": "code",
      "source": [],
      "metadata": {
        "id": "kjIXg4hgpG-r"
      },
      "execution_count": 30,
      "outputs": []
    }
  ]
}